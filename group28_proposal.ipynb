{
 "cells": [
  {
   "cell_type": "markdown",
   "id": "079c811a-4264-4a3d-b391-a5f735168e88",
   "metadata": {},
   "source": [
    "# Predicting Ski Resort Lift Ticket Prices\n",
    "### By Group 28"
   ]
  },
  {
   "cell_type": "markdown",
   "id": "c7c0bbbe-2485-4ee0-86fa-9667505a7ba5",
   "metadata": {
    "jp-MarkdownHeadingCollapsed": true,
    "tags": []
   },
   "source": [
    "## Introduction\n",
    "Anyone who has skied or snowboarded in the past few years will almost certainly have noticed the rapid increase in lift ticket prices - what used to be 70-100 dollars a day can now reach higher than $220 for a single day’s lift ticket at modern, large, ski resort around North America and Europe. \n",
    "\n",
    "In this investigation we plan on trying to find the links between many factors like Max Altitude, Min Altitude, Total Runs, Run Difficulties, Number of Lifts, Snowmaking Capacity and more to determine what factors affect the lift ticket price the most. We will then use this data to predict lift ticket prices for new resorts to match fair market price. \n",
    "\n",
    "This will all be completed using Kaggle user thomasnibb’s “European Ski Resorts” dataset, found at https://www.kaggle.com/datasets/thomasnibb/european-ski-resorts."
   ]
  },
  {
   "cell_type": "markdown",
   "id": "63642c6e-7392-4a90-ae32-21b7de986146",
   "metadata": {},
   "source": [
    "## Preliminary exploratory data analysis\n",
    "Here we will demonstrate how the data can be read in to R via the web, clean and tidy the data, then summarize the data in both a table and visualization format."
   ]
  },
  {
   "cell_type": "code",
   "execution_count": 4,
   "id": "0b756d82-0fbc-45d0-b270-a30d68a58272",
   "metadata": {},
   "outputs": [],
   "source": [
    "# Run First\n",
    "library(tidyverse)"
   ]
  },
  {
   "cell_type": "code",
   "execution_count": 12,
   "id": "bbff823d-fb84-4b43-8bbf-981446a1117c",
   "metadata": {},
   "outputs": [],
   "source": [
    "# Reading the Data\n",
    "url <- \"https://raw.githubusercontent.com/alextdart/dsci100-group28-2022wt2/main/European_Ski_Resorts.csv\"\n",
    "raw_data <- read_csv(url, show_col_types = FALSE)"
   ]
  },
  {
   "cell_type": "code",
   "execution_count": 13,
   "id": "415fe39c-c795-4948-a149-b435add6cbd9",
   "metadata": {},
   "outputs": [
    {
     "data": {
      "text/html": [
       "<table class=\"dataframe\">\n",
       "<caption>A tibble: 6 × 18</caption>\n",
       "<thead>\n",
       "\t<tr><th scope=col>Row</th><th scope=col>Resort</th><th scope=col>Country</th><th scope=col>HighestPoint</th><th scope=col>LowestPoint</th><th scope=col>DayPassPriceAdult</th><th scope=col>BeginnerSlope</th><th scope=col>IntermediateSlope</th><th scope=col>DifficultSlope</th><th scope=col>TotalSlope</th><th scope=col>Snowparks</th><th scope=col>NightSki</th><th scope=col>SurfaceLifts</th><th scope=col>ChairLifts</th><th scope=col>GondolaLifts</th><th scope=col>TotalLifts</th><th scope=col>LiftCapacity</th><th scope=col>SnowCannons</th></tr>\n",
       "\t<tr><th scope=col>&lt;dbl&gt;</th><th scope=col>&lt;chr&gt;</th><th scope=col>&lt;chr&gt;</th><th scope=col>&lt;dbl&gt;</th><th scope=col>&lt;dbl&gt;</th><th scope=col>&lt;dbl&gt;</th><th scope=col>&lt;dbl&gt;</th><th scope=col>&lt;dbl&gt;</th><th scope=col>&lt;dbl&gt;</th><th scope=col>&lt;dbl&gt;</th><th scope=col>&lt;chr&gt;</th><th scope=col>&lt;chr&gt;</th><th scope=col>&lt;dbl&gt;</th><th scope=col>&lt;dbl&gt;</th><th scope=col>&lt;dbl&gt;</th><th scope=col>&lt;dbl&gt;</th><th scope=col>&lt;dbl&gt;</th><th scope=col>&lt;dbl&gt;</th></tr>\n",
       "</thead>\n",
       "<tbody>\n",
       "\t<tr><td>1</td><td>Alpendorf (Ski amedé)                                                 </td><td>Austria        </td><td>1980</td><td> 740</td><td>52</td><td> 30</td><td>81</td><td> 4</td><td>115</td><td>Yes</td><td>No </td><td>22</td><td>16</td><td>11</td><td>49</td><td>75398</td><td> 600</td></tr>\n",
       "\t<tr><td>2</td><td>Soldeu-Pas de la Casa/​Grau Roig/​El Tarter/​Canillo/​Encamp (Grandvalira)</td><td>Andorra        </td><td>2640</td><td>1710</td><td>47</td><td>100</td><td>77</td><td>33</td><td>210</td><td>Yes</td><td>Yes</td><td>37</td><td>28</td><td> 7</td><td>72</td><td>99017</td><td>1032</td></tr>\n",
       "\t<tr><td>3</td><td>Oberau (Wildschönau)                                                  </td><td>Austria        </td><td>1130</td><td> 900</td><td>30</td><td>  1</td><td> 0</td><td> 1</td><td>  2</td><td>No </td><td>No </td><td> 2</td><td> 0</td><td> 0</td><td> 2</td><td> 1932</td><td>   0</td></tr>\n",
       "\t<tr><td>4</td><td>Dachstein West                                                        </td><td>Austria        </td><td>1620</td><td> 780</td><td>42</td><td> 15</td><td>33</td><td> 3</td><td> 51</td><td>Yes</td><td>Yes</td><td>25</td><td> 8</td><td> 3</td><td>36</td><td>32938</td><td> 163</td></tr>\n",
       "\t<tr><td>5</td><td>Rosa Khutor                                                           </td><td>Southern Russia</td><td>2320</td><td> 940</td><td>22</td><td> 30</td><td>26</td><td>21</td><td> 77</td><td>Yes</td><td>No </td><td> 6</td><td>11</td><td>10</td><td>27</td><td>49228</td><td> 450</td></tr>\n",
       "\t<tr><td>6</td><td>Białka Tatrzańska-Kotelnica-​Kaniówka-​Bania                            </td><td>Poland         </td><td> 910</td><td> 680</td><td>23</td><td> 12</td><td> 3</td><td> 0</td><td> 16</td><td>Yes</td><td>Yes</td><td> 7</td><td> 1</td><td> 0</td><td> 8</td><td>28020</td><td>   0</td></tr>\n",
       "</tbody>\n",
       "</table>\n"
      ],
      "text/latex": [
       "A tibble: 6 × 18\n",
       "\\begin{tabular}{llllllllllllllllll}\n",
       " Row & Resort & Country & HighestPoint & LowestPoint & DayPassPriceAdult & BeginnerSlope & IntermediateSlope & DifficultSlope & TotalSlope & Snowparks & NightSki & SurfaceLifts & ChairLifts & GondolaLifts & TotalLifts & LiftCapacity & SnowCannons\\\\\n",
       " <dbl> & <chr> & <chr> & <dbl> & <dbl> & <dbl> & <dbl> & <dbl> & <dbl> & <dbl> & <chr> & <chr> & <dbl> & <dbl> & <dbl> & <dbl> & <dbl> & <dbl>\\\\\n",
       "\\hline\n",
       "\t 1 & Alpendorf (Ski amedé)                                                  & Austria         & 1980 &  740 & 52 &  30 & 81 &  4 & 115 & Yes & No  & 22 & 16 & 11 & 49 & 75398 &  600\\\\\n",
       "\t 2 & Soldeu-Pas de la Casa/​Grau Roig/​El Tarter/​Canillo/​Encamp (Grandvalira) & Andorra         & 2640 & 1710 & 47 & 100 & 77 & 33 & 210 & Yes & Yes & 37 & 28 &  7 & 72 & 99017 & 1032\\\\\n",
       "\t 3 & Oberau (Wildschönau)                                                   & Austria         & 1130 &  900 & 30 &   1 &  0 &  1 &   2 & No  & No  &  2 &  0 &  0 &  2 &  1932 &    0\\\\\n",
       "\t 4 & Dachstein West                                                         & Austria         & 1620 &  780 & 42 &  15 & 33 &  3 &  51 & Yes & Yes & 25 &  8 &  3 & 36 & 32938 &  163\\\\\n",
       "\t 5 & Rosa Khutor                                                            & Southern Russia & 2320 &  940 & 22 &  30 & 26 & 21 &  77 & Yes & No  &  6 & 11 & 10 & 27 & 49228 &  450\\\\\n",
       "\t 6 & Białka Tatrzańska-Kotelnica-​Kaniówka-​Bania                             & Poland          &  910 &  680 & 23 &  12 &  3 &  0 &  16 & Yes & Yes &  7 &  1 &  0 &  8 & 28020 &    0\\\\\n",
       "\\end{tabular}\n"
      ],
      "text/markdown": [
       "\n",
       "A tibble: 6 × 18\n",
       "\n",
       "| Row &lt;dbl&gt; | Resort &lt;chr&gt; | Country &lt;chr&gt; | HighestPoint &lt;dbl&gt; | LowestPoint &lt;dbl&gt; | DayPassPriceAdult &lt;dbl&gt; | BeginnerSlope &lt;dbl&gt; | IntermediateSlope &lt;dbl&gt; | DifficultSlope &lt;dbl&gt; | TotalSlope &lt;dbl&gt; | Snowparks &lt;chr&gt; | NightSki &lt;chr&gt; | SurfaceLifts &lt;dbl&gt; | ChairLifts &lt;dbl&gt; | GondolaLifts &lt;dbl&gt; | TotalLifts &lt;dbl&gt; | LiftCapacity &lt;dbl&gt; | SnowCannons &lt;dbl&gt; |\n",
       "|---|---|---|---|---|---|---|---|---|---|---|---|---|---|---|---|---|---|\n",
       "| 1 | Alpendorf (Ski amedé)                                                  | Austria         | 1980 |  740 | 52 |  30 | 81 |  4 | 115 | Yes | No  | 22 | 16 | 11 | 49 | 75398 |  600 |\n",
       "| 2 | Soldeu-Pas de la Casa/​Grau Roig/​El Tarter/​Canillo/​Encamp (Grandvalira) | Andorra         | 2640 | 1710 | 47 | 100 | 77 | 33 | 210 | Yes | Yes | 37 | 28 |  7 | 72 | 99017 | 1032 |\n",
       "| 3 | Oberau (Wildschönau)                                                   | Austria         | 1130 |  900 | 30 |   1 |  0 |  1 |   2 | No  | No  |  2 |  0 |  0 |  2 |  1932 |    0 |\n",
       "| 4 | Dachstein West                                                         | Austria         | 1620 |  780 | 42 |  15 | 33 |  3 |  51 | Yes | Yes | 25 |  8 |  3 | 36 | 32938 |  163 |\n",
       "| 5 | Rosa Khutor                                                            | Southern Russia | 2320 |  940 | 22 |  30 | 26 | 21 |  77 | Yes | No  |  6 | 11 | 10 | 27 | 49228 |  450 |\n",
       "| 6 | Białka Tatrzańska-Kotelnica-​Kaniówka-​Bania                             | Poland          |  910 |  680 | 23 |  12 |  3 |  0 |  16 | Yes | Yes |  7 |  1 |  0 |  8 | 28020 |    0 |\n",
       "\n"
      ],
      "text/plain": [
       "  Row Resort                                                                \n",
       "1 1   Alpendorf (Ski amedé)                                                 \n",
       "2 2   Soldeu-Pas de la Casa/​Grau Roig/​El Tarter/​Canillo/​Encamp (Grandvalira)\n",
       "3 3   Oberau (Wildschönau)                                                  \n",
       "4 4   Dachstein West                                                        \n",
       "5 5   Rosa Khutor                                                           \n",
       "6 6   Białka Tatrzańska-Kotelnica-​Kaniówka-​Bania                            \n",
       "  Country         HighestPoint LowestPoint DayPassPriceAdult BeginnerSlope\n",
       "1 Austria         1980          740        52                 30          \n",
       "2 Andorra         2640         1710        47                100          \n",
       "3 Austria         1130          900        30                  1          \n",
       "4 Austria         1620          780        42                 15          \n",
       "5 Southern Russia 2320          940        22                 30          \n",
       "6 Poland           910          680        23                 12          \n",
       "  IntermediateSlope DifficultSlope TotalSlope Snowparks NightSki SurfaceLifts\n",
       "1 81                 4             115        Yes       No       22          \n",
       "2 77                33             210        Yes       Yes      37          \n",
       "3  0                 1               2        No        No        2          \n",
       "4 33                 3              51        Yes       Yes      25          \n",
       "5 26                21              77        Yes       No        6          \n",
       "6  3                 0              16        Yes       Yes       7          \n",
       "  ChairLifts GondolaLifts TotalLifts LiftCapacity SnowCannons\n",
       "1 16         11           49         75398         600       \n",
       "2 28          7           72         99017        1032       \n",
       "3  0          0            2          1932           0       \n",
       "4  8          3           36         32938         163       \n",
       "5 11         10           27         49228         450       \n",
       "6  1          0            8         28020           0       "
      ]
     },
     "metadata": {},
     "output_type": "display_data"
    },
    {
     "data": {
      "text/html": [
       "<table class=\"dataframe\">\n",
       "<caption>A tibble: 6 × 15</caption>\n",
       "<thead>\n",
       "\t<tr><th scope=col>HighestPoint</th><th scope=col>LowestPoint</th><th scope=col>DayPassPriceAdult</th><th scope=col>BeginnerSlope</th><th scope=col>IntermediateSlope</th><th scope=col>DifficultSlope</th><th scope=col>TotalSlope</th><th scope=col>Snowparks</th><th scope=col>NightSki</th><th scope=col>SurfaceLifts</th><th scope=col>ChairLifts</th><th scope=col>GondolaLifts</th><th scope=col>TotalLifts</th><th scope=col>LiftCapacity</th><th scope=col>SnowCannons</th></tr>\n",
       "\t<tr><th scope=col>&lt;dbl&gt;</th><th scope=col>&lt;dbl&gt;</th><th scope=col>&lt;dbl&gt;</th><th scope=col>&lt;dbl&gt;</th><th scope=col>&lt;dbl&gt;</th><th scope=col>&lt;dbl&gt;</th><th scope=col>&lt;dbl&gt;</th><th scope=col>&lt;chr&gt;</th><th scope=col>&lt;chr&gt;</th><th scope=col>&lt;dbl&gt;</th><th scope=col>&lt;dbl&gt;</th><th scope=col>&lt;dbl&gt;</th><th scope=col>&lt;dbl&gt;</th><th scope=col>&lt;dbl&gt;</th><th scope=col>&lt;dbl&gt;</th></tr>\n",
       "</thead>\n",
       "<tbody>\n",
       "\t<tr><td>1980</td><td> 740</td><td>52</td><td> 30</td><td>81</td><td> 4</td><td>115</td><td>Yes</td><td>No </td><td>22</td><td>16</td><td>11</td><td>49</td><td>75398</td><td> 600</td></tr>\n",
       "\t<tr><td>2640</td><td>1710</td><td>47</td><td>100</td><td>77</td><td>33</td><td>210</td><td>Yes</td><td>Yes</td><td>37</td><td>28</td><td> 7</td><td>72</td><td>99017</td><td>1032</td></tr>\n",
       "\t<tr><td>1130</td><td> 900</td><td>30</td><td>  1</td><td> 0</td><td> 1</td><td>  2</td><td>No </td><td>No </td><td> 2</td><td> 0</td><td> 0</td><td> 2</td><td> 1932</td><td>   0</td></tr>\n",
       "\t<tr><td>1620</td><td> 780</td><td>42</td><td> 15</td><td>33</td><td> 3</td><td> 51</td><td>Yes</td><td>Yes</td><td>25</td><td> 8</td><td> 3</td><td>36</td><td>32938</td><td> 163</td></tr>\n",
       "\t<tr><td>2320</td><td> 940</td><td>22</td><td> 30</td><td>26</td><td>21</td><td> 77</td><td>Yes</td><td>No </td><td> 6</td><td>11</td><td>10</td><td>27</td><td>49228</td><td> 450</td></tr>\n",
       "\t<tr><td> 910</td><td> 680</td><td>23</td><td> 12</td><td> 3</td><td> 0</td><td> 16</td><td>Yes</td><td>Yes</td><td> 7</td><td> 1</td><td> 0</td><td> 8</td><td>28020</td><td>   0</td></tr>\n",
       "</tbody>\n",
       "</table>\n"
      ],
      "text/latex": [
       "A tibble: 6 × 15\n",
       "\\begin{tabular}{lllllllllllllll}\n",
       " HighestPoint & LowestPoint & DayPassPriceAdult & BeginnerSlope & IntermediateSlope & DifficultSlope & TotalSlope & Snowparks & NightSki & SurfaceLifts & ChairLifts & GondolaLifts & TotalLifts & LiftCapacity & SnowCannons\\\\\n",
       " <dbl> & <dbl> & <dbl> & <dbl> & <dbl> & <dbl> & <dbl> & <chr> & <chr> & <dbl> & <dbl> & <dbl> & <dbl> & <dbl> & <dbl>\\\\\n",
       "\\hline\n",
       "\t 1980 &  740 & 52 &  30 & 81 &  4 & 115 & Yes & No  & 22 & 16 & 11 & 49 & 75398 &  600\\\\\n",
       "\t 2640 & 1710 & 47 & 100 & 77 & 33 & 210 & Yes & Yes & 37 & 28 &  7 & 72 & 99017 & 1032\\\\\n",
       "\t 1130 &  900 & 30 &   1 &  0 &  1 &   2 & No  & No  &  2 &  0 &  0 &  2 &  1932 &    0\\\\\n",
       "\t 1620 &  780 & 42 &  15 & 33 &  3 &  51 & Yes & Yes & 25 &  8 &  3 & 36 & 32938 &  163\\\\\n",
       "\t 2320 &  940 & 22 &  30 & 26 & 21 &  77 & Yes & No  &  6 & 11 & 10 & 27 & 49228 &  450\\\\\n",
       "\t  910 &  680 & 23 &  12 &  3 &  0 &  16 & Yes & Yes &  7 &  1 &  0 &  8 & 28020 &    0\\\\\n",
       "\\end{tabular}\n"
      ],
      "text/markdown": [
       "\n",
       "A tibble: 6 × 15\n",
       "\n",
       "| HighestPoint &lt;dbl&gt; | LowestPoint &lt;dbl&gt; | DayPassPriceAdult &lt;dbl&gt; | BeginnerSlope &lt;dbl&gt; | IntermediateSlope &lt;dbl&gt; | DifficultSlope &lt;dbl&gt; | TotalSlope &lt;dbl&gt; | Snowparks &lt;chr&gt; | NightSki &lt;chr&gt; | SurfaceLifts &lt;dbl&gt; | ChairLifts &lt;dbl&gt; | GondolaLifts &lt;dbl&gt; | TotalLifts &lt;dbl&gt; | LiftCapacity &lt;dbl&gt; | SnowCannons &lt;dbl&gt; |\n",
       "|---|---|---|---|---|---|---|---|---|---|---|---|---|---|---|\n",
       "| 1980 |  740 | 52 |  30 | 81 |  4 | 115 | Yes | No  | 22 | 16 | 11 | 49 | 75398 |  600 |\n",
       "| 2640 | 1710 | 47 | 100 | 77 | 33 | 210 | Yes | Yes | 37 | 28 |  7 | 72 | 99017 | 1032 |\n",
       "| 1130 |  900 | 30 |   1 |  0 |  1 |   2 | No  | No  |  2 |  0 |  0 |  2 |  1932 |    0 |\n",
       "| 1620 |  780 | 42 |  15 | 33 |  3 |  51 | Yes | Yes | 25 |  8 |  3 | 36 | 32938 |  163 |\n",
       "| 2320 |  940 | 22 |  30 | 26 | 21 |  77 | Yes | No  |  6 | 11 | 10 | 27 | 49228 |  450 |\n",
       "|  910 |  680 | 23 |  12 |  3 |  0 |  16 | Yes | Yes |  7 |  1 |  0 |  8 | 28020 |    0 |\n",
       "\n"
      ],
      "text/plain": [
       "  HighestPoint LowestPoint DayPassPriceAdult BeginnerSlope IntermediateSlope\n",
       "1 1980          740        52                 30           81               \n",
       "2 2640         1710        47                100           77               \n",
       "3 1130          900        30                  1            0               \n",
       "4 1620          780        42                 15           33               \n",
       "5 2320          940        22                 30           26               \n",
       "6  910          680        23                 12            3               \n",
       "  DifficultSlope TotalSlope Snowparks NightSki SurfaceLifts ChairLifts\n",
       "1  4             115        Yes       No       22           16        \n",
       "2 33             210        Yes       Yes      37           28        \n",
       "3  1               2        No        No        2            0        \n",
       "4  3              51        Yes       Yes      25            8        \n",
       "5 21              77        Yes       No        6           11        \n",
       "6  0              16        Yes       Yes       7            1        \n",
       "  GondolaLifts TotalLifts LiftCapacity SnowCannons\n",
       "1 11           49         75398         600       \n",
       "2  7           72         99017        1032       \n",
       "3  0            2          1932           0       \n",
       "4  3           36         32938         163       \n",
       "5 10           27         49228         450       \n",
       "6  0            8         28020           0       "
      ]
     },
     "metadata": {},
     "output_type": "display_data"
    }
   ],
   "source": [
    "# Cleaning the Data (removing unneeded columns, otherwise is clean already)\n",
    "head(raw_data)\n",
    "\n",
    "ski_data <- raw_data |>\n",
    "    select(HighestPoint:SnowCannons)\n",
    "\n",
    "head(ski_data)"
   ]
  },
  {
   "cell_type": "code",
   "execution_count": null,
   "id": "b1fb5eb7-33bd-40a0-afcb-bfad9f6c0fee",
   "metadata": {},
   "outputs": [],
   "source": [
    "# Summary Table\n",
    "#    TODO"
   ]
  },
  {
   "cell_type": "code",
   "execution_count": null,
   "id": "2cef6ee3-df61-42f1-bf7b-7ffe8483602e",
   "metadata": {},
   "outputs": [],
   "source": [
    "# Summary Visualization\n",
    "#    TODO"
   ]
  },
  {
   "cell_type": "markdown",
   "id": "3a6ec95f-e4a6-406f-a2e2-4994d44eab63",
   "metadata": {},
   "source": [
    "## Methods\n",
    "We are going to use the numeric and boolean columns (all but Resort Name, Country and Row number) to help us predict DayPassPriceAdult - the price of a Day Pass for a resort. Country is too varied to help us gain accuracy in prediction and is thus excluded. Row number, similarly, isn't relevant and the resort name is unique and most likely has no impact on ticket price.\n",
    "\n",
    "There are many ways we can use the linear regression model we learnt in Week 8 to potentially predict the price of a lift ticket in a new ski resort, with, of course, the Day Pass Price being the variable we're predicting. We can create multiple recipes — each with a different variables we're using to predict — before plotting them to see if there was any sort of correlation. As an example; we can create a recipe that predicts the price of tickets by using Total Slopes as the predictor. We can then graph these to determine if there are any trends between all the created plots."
   ]
  },
  {
   "cell_type": "markdown",
   "id": "a8f2614f-991e-4964-aa0d-c88fd5f22555",
   "metadata": {},
   "source": [
    "## Expected outcomes and significance\n",
    "\n",
    "There is, of course, no certain way we can predetermine our predictions. There could be outliers that break the trend we find; However, since higher quality often means more expenses, we expect to find that resorts with better quality (more Slopes, Lifts, Lift Capacity, Snow Cannons, and so on) to be more expensive.\n",
    "\n",
    "Our findings would be most important for those who like skiiing and have a budget. Finding whether or not there is a pattern linking price and certain aspects of a resort would greatly help those who ski to save money. We're, in a sense, finding the way to predict whether a new and unknown ski resort will deliver a good cost-to-fun efficiency. Given that inflation is everywhere always increasing, it would be useful to have some method of saving some money without fully losing all the things that make life fun.\n",
    "\n",
    "These findings may lead to questions like:\n",
    "How can a resort maximize profit while minimizing expenses on facilities? \n",
    "How should the difficulty of ski slopes affect prices?\n"
   ]
  },
  {
   "cell_type": "code",
   "execution_count": null,
   "id": "3286cbd5-de84-4891-94c2-47540ad8309f",
   "metadata": {},
   "outputs": [],
   "source": []
  }
 ],
 "metadata": {
  "kernelspec": {
   "display_name": "R",
   "language": "R",
   "name": "ir"
  },
  "language_info": {
   "codemirror_mode": "r",
   "file_extension": ".r",
   "mimetype": "text/x-r-source",
   "name": "R",
   "pygments_lexer": "r",
   "version": "4.1.3"
  }
 },
 "nbformat": 4,
 "nbformat_minor": 5
}
