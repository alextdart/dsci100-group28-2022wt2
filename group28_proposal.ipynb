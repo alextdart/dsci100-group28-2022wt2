{
 "cells": [
  {
   "cell_type": "markdown",
   "id": "079c811a-4264-4a3d-b391-a5f735168e88",
   "metadata": {},
   "source": [
    "# Predicting Ski Resort Lift Ticket Prices\n",
    "### By Group 28"
   ]
  },
  {
   "cell_type": "markdown",
   "id": "c7c0bbbe-2485-4ee0-86fa-9667505a7ba5",
   "metadata": {
    "jp-MarkdownHeadingCollapsed": true,
    "tags": []
   },
   "source": [
    "## Introduction\n",
    "Anyone who has skied or snowboarded in the past few years will almost certainly have noticed the rapid increase in lift ticket prices. What used to be 70-100 dollars a day can now reach higher than $220 for a single day’s lift ticket at modern, large, ski resorts around North America and Europe. \n",
    "\n",
    "In this investigation we plan on finding the links between many factors like Max Altitude, Min Altitude, Total Runs, Run Difficulties, Number of Lifts, Snowmaking Capacity and more to determine what affects the lift ticket price the most. We will then use this data to predict lift ticket prices for new resorts to match fair market prices. \n",
    "\n",
    "This will be completed using Kaggle user thomasnibb’s “European Ski Resorts” dataset, found at https://www.kaggle.com/datasets/thomasnibb/european-ski-resorts."
   ]
  },
  {
   "cell_type": "markdown",
   "id": "63642c6e-7392-4a90-ae32-21b7de986146",
   "metadata": {},
   "source": [
    "## Preliminary exploratory data analysis\n",
    "Here we will demonstrate how the data can be read into R via the web, clean and tidy it, before summarizing the data into a table and visualizing it."
   ]
  },
  {
   "cell_type": "code",
   "execution_count": 1,
   "id": "0b756d82-0fbc-45d0-b270-a30d68a58272",
   "metadata": {},
   "outputs": [
    {
     "name": "stderr",
     "output_type": "stream",
     "text": [
      "── \u001b[1mAttaching packages\u001b[22m ─────────────────────────────────────── tidyverse 1.3.1 ──\n",
      "\n",
      "\u001b[32m✔\u001b[39m \u001b[34mggplot2\u001b[39m 3.3.6     \u001b[32m✔\u001b[39m \u001b[34mpurrr  \u001b[39m 0.3.4\n",
      "\u001b[32m✔\u001b[39m \u001b[34mtibble \u001b[39m 3.1.7     \u001b[32m✔\u001b[39m \u001b[34mdplyr  \u001b[39m 1.0.9\n",
      "\u001b[32m✔\u001b[39m \u001b[34mtidyr  \u001b[39m 1.2.0     \u001b[32m✔\u001b[39m \u001b[34mstringr\u001b[39m 1.4.0\n",
      "\u001b[32m✔\u001b[39m \u001b[34mreadr  \u001b[39m 2.1.2     \u001b[32m✔\u001b[39m \u001b[34mforcats\u001b[39m 0.5.1\n",
      "\n",
      "── \u001b[1mConflicts\u001b[22m ────────────────────────────────────────── tidyverse_conflicts() ──\n",
      "\u001b[31m✖\u001b[39m \u001b[34mdplyr\u001b[39m::\u001b[32mfilter()\u001b[39m masks \u001b[34mstats\u001b[39m::filter()\n",
      "\u001b[31m✖\u001b[39m \u001b[34mdplyr\u001b[39m::\u001b[32mlag()\u001b[39m    masks \u001b[34mstats\u001b[39m::lag()\n",
      "\n"
     ]
    }
   ],
   "source": [
    "# Run First\n",
    "library(tidyverse)"
   ]
  },
  {
   "cell_type": "code",
   "execution_count": 2,
   "id": "bbff823d-fb84-4b43-8bbf-981446a1117c",
   "metadata": {},
   "outputs": [],
   "source": [
    "# Reading the Data\n",
    "url <- \"https://raw.githubusercontent.com/alextdart/dsci100-group28-2022wt2/main/European_Ski_Resorts.csv\"\n",
    "raw_data <- read_csv(url, show_col_types = FALSE)"
   ]
  },
  {
   "cell_type": "code",
   "execution_count": 3,
   "id": "415fe39c-c795-4948-a149-b435add6cbd9",
   "metadata": {},
   "outputs": [
    {
     "data": {
      "text/html": [
       "<table class=\"dataframe\">\n",
       "<caption>A tibble: 6 × 18</caption>\n",
       "<thead>\n",
       "\t<tr><th scope=col>Row</th><th scope=col>Resort</th><th scope=col>Country</th><th scope=col>HighestPoint</th><th scope=col>LowestPoint</th><th scope=col>DayPassPriceAdult</th><th scope=col>BeginnerSlope</th><th scope=col>IntermediateSlope</th><th scope=col>DifficultSlope</th><th scope=col>TotalSlope</th><th scope=col>Snowparks</th><th scope=col>NightSki</th><th scope=col>SurfaceLifts</th><th scope=col>ChairLifts</th><th scope=col>GondolaLifts</th><th scope=col>TotalLifts</th><th scope=col>LiftCapacity</th><th scope=col>SnowCannons</th></tr>\n",
       "\t<tr><th scope=col>&lt;dbl&gt;</th><th scope=col>&lt;chr&gt;</th><th scope=col>&lt;chr&gt;</th><th scope=col>&lt;dbl&gt;</th><th scope=col>&lt;dbl&gt;</th><th scope=col>&lt;dbl&gt;</th><th scope=col>&lt;dbl&gt;</th><th scope=col>&lt;dbl&gt;</th><th scope=col>&lt;dbl&gt;</th><th scope=col>&lt;dbl&gt;</th><th scope=col>&lt;chr&gt;</th><th scope=col>&lt;chr&gt;</th><th scope=col>&lt;dbl&gt;</th><th scope=col>&lt;dbl&gt;</th><th scope=col>&lt;dbl&gt;</th><th scope=col>&lt;dbl&gt;</th><th scope=col>&lt;dbl&gt;</th><th scope=col>&lt;dbl&gt;</th></tr>\n",
       "</thead>\n",
       "<tbody>\n",
       "\t<tr><td>1</td><td>Alpendorf (Ski amedé)                                                 </td><td>Austria        </td><td>1980</td><td> 740</td><td>52</td><td> 30</td><td>81</td><td> 4</td><td>115</td><td>Yes</td><td>No </td><td>22</td><td>16</td><td>11</td><td>49</td><td>75398</td><td> 600</td></tr>\n",
       "\t<tr><td>2</td><td>Soldeu-Pas de la Casa/​Grau Roig/​El Tarter/​Canillo/​Encamp (Grandvalira)</td><td>Andorra        </td><td>2640</td><td>1710</td><td>47</td><td>100</td><td>77</td><td>33</td><td>210</td><td>Yes</td><td>Yes</td><td>37</td><td>28</td><td> 7</td><td>72</td><td>99017</td><td>1032</td></tr>\n",
       "\t<tr><td>3</td><td>Oberau (Wildschönau)                                                  </td><td>Austria        </td><td>1130</td><td> 900</td><td>30</td><td>  1</td><td> 0</td><td> 1</td><td>  2</td><td>No </td><td>No </td><td> 2</td><td> 0</td><td> 0</td><td> 2</td><td> 1932</td><td>   0</td></tr>\n",
       "\t<tr><td>4</td><td>Dachstein West                                                        </td><td>Austria        </td><td>1620</td><td> 780</td><td>42</td><td> 15</td><td>33</td><td> 3</td><td> 51</td><td>Yes</td><td>Yes</td><td>25</td><td> 8</td><td> 3</td><td>36</td><td>32938</td><td> 163</td></tr>\n",
       "\t<tr><td>5</td><td>Rosa Khutor                                                           </td><td>Southern Russia</td><td>2320</td><td> 940</td><td>22</td><td> 30</td><td>26</td><td>21</td><td> 77</td><td>Yes</td><td>No </td><td> 6</td><td>11</td><td>10</td><td>27</td><td>49228</td><td> 450</td></tr>\n",
       "\t<tr><td>6</td><td>Białka Tatrzańska-Kotelnica-​Kaniówka-​Bania                            </td><td>Poland         </td><td> 910</td><td> 680</td><td>23</td><td> 12</td><td> 3</td><td> 0</td><td> 16</td><td>Yes</td><td>Yes</td><td> 7</td><td> 1</td><td> 0</td><td> 8</td><td>28020</td><td>   0</td></tr>\n",
       "</tbody>\n",
       "</table>\n"
      ],
      "text/latex": [
       "A tibble: 6 × 18\n",
       "\\begin{tabular}{llllllllllllllllll}\n",
       " Row & Resort & Country & HighestPoint & LowestPoint & DayPassPriceAdult & BeginnerSlope & IntermediateSlope & DifficultSlope & TotalSlope & Snowparks & NightSki & SurfaceLifts & ChairLifts & GondolaLifts & TotalLifts & LiftCapacity & SnowCannons\\\\\n",
       " <dbl> & <chr> & <chr> & <dbl> & <dbl> & <dbl> & <dbl> & <dbl> & <dbl> & <dbl> & <chr> & <chr> & <dbl> & <dbl> & <dbl> & <dbl> & <dbl> & <dbl>\\\\\n",
       "\\hline\n",
       "\t 1 & Alpendorf (Ski amedé)                                                  & Austria         & 1980 &  740 & 52 &  30 & 81 &  4 & 115 & Yes & No  & 22 & 16 & 11 & 49 & 75398 &  600\\\\\n",
       "\t 2 & Soldeu-Pas de la Casa/​Grau Roig/​El Tarter/​Canillo/​Encamp (Grandvalira) & Andorra         & 2640 & 1710 & 47 & 100 & 77 & 33 & 210 & Yes & Yes & 37 & 28 &  7 & 72 & 99017 & 1032\\\\\n",
       "\t 3 & Oberau (Wildschönau)                                                   & Austria         & 1130 &  900 & 30 &   1 &  0 &  1 &   2 & No  & No  &  2 &  0 &  0 &  2 &  1932 &    0\\\\\n",
       "\t 4 & Dachstein West                                                         & Austria         & 1620 &  780 & 42 &  15 & 33 &  3 &  51 & Yes & Yes & 25 &  8 &  3 & 36 & 32938 &  163\\\\\n",
       "\t 5 & Rosa Khutor                                                            & Southern Russia & 2320 &  940 & 22 &  30 & 26 & 21 &  77 & Yes & No  &  6 & 11 & 10 & 27 & 49228 &  450\\\\\n",
       "\t 6 & Białka Tatrzańska-Kotelnica-​Kaniówka-​Bania                             & Poland          &  910 &  680 & 23 &  12 &  3 &  0 &  16 & Yes & Yes &  7 &  1 &  0 &  8 & 28020 &    0\\\\\n",
       "\\end{tabular}\n"
      ],
      "text/markdown": [
       "\n",
       "A tibble: 6 × 18\n",
       "\n",
       "| Row &lt;dbl&gt; | Resort &lt;chr&gt; | Country &lt;chr&gt; | HighestPoint &lt;dbl&gt; | LowestPoint &lt;dbl&gt; | DayPassPriceAdult &lt;dbl&gt; | BeginnerSlope &lt;dbl&gt; | IntermediateSlope &lt;dbl&gt; | DifficultSlope &lt;dbl&gt; | TotalSlope &lt;dbl&gt; | Snowparks &lt;chr&gt; | NightSki &lt;chr&gt; | SurfaceLifts &lt;dbl&gt; | ChairLifts &lt;dbl&gt; | GondolaLifts &lt;dbl&gt; | TotalLifts &lt;dbl&gt; | LiftCapacity &lt;dbl&gt; | SnowCannons &lt;dbl&gt; |\n",
       "|---|---|---|---|---|---|---|---|---|---|---|---|---|---|---|---|---|---|\n",
       "| 1 | Alpendorf (Ski amedé)                                                  | Austria         | 1980 |  740 | 52 |  30 | 81 |  4 | 115 | Yes | No  | 22 | 16 | 11 | 49 | 75398 |  600 |\n",
       "| 2 | Soldeu-Pas de la Casa/​Grau Roig/​El Tarter/​Canillo/​Encamp (Grandvalira) | Andorra         | 2640 | 1710 | 47 | 100 | 77 | 33 | 210 | Yes | Yes | 37 | 28 |  7 | 72 | 99017 | 1032 |\n",
       "| 3 | Oberau (Wildschönau)                                                   | Austria         | 1130 |  900 | 30 |   1 |  0 |  1 |   2 | No  | No  |  2 |  0 |  0 |  2 |  1932 |    0 |\n",
       "| 4 | Dachstein West                                                         | Austria         | 1620 |  780 | 42 |  15 | 33 |  3 |  51 | Yes | Yes | 25 |  8 |  3 | 36 | 32938 |  163 |\n",
       "| 5 | Rosa Khutor                                                            | Southern Russia | 2320 |  940 | 22 |  30 | 26 | 21 |  77 | Yes | No  |  6 | 11 | 10 | 27 | 49228 |  450 |\n",
       "| 6 | Białka Tatrzańska-Kotelnica-​Kaniówka-​Bania                             | Poland          |  910 |  680 | 23 |  12 |  3 |  0 |  16 | Yes | Yes |  7 |  1 |  0 |  8 | 28020 |    0 |\n",
       "\n"
      ],
      "text/plain": [
       "  Row Resort                                                                \n",
       "1 1   Alpendorf (Ski amedé)                                                 \n",
       "2 2   Soldeu-Pas de la Casa/​Grau Roig/​El Tarter/​Canillo/​Encamp (Grandvalira)\n",
       "3 3   Oberau (Wildschönau)                                                  \n",
       "4 4   Dachstein West                                                        \n",
       "5 5   Rosa Khutor                                                           \n",
       "6 6   Białka Tatrzańska-Kotelnica-​Kaniówka-​Bania                            \n",
       "  Country         HighestPoint LowestPoint DayPassPriceAdult BeginnerSlope\n",
       "1 Austria         1980          740        52                 30          \n",
       "2 Andorra         2640         1710        47                100          \n",
       "3 Austria         1130          900        30                  1          \n",
       "4 Austria         1620          780        42                 15          \n",
       "5 Southern Russia 2320          940        22                 30          \n",
       "6 Poland           910          680        23                 12          \n",
       "  IntermediateSlope DifficultSlope TotalSlope Snowparks NightSki SurfaceLifts\n",
       "1 81                 4             115        Yes       No       22          \n",
       "2 77                33             210        Yes       Yes      37          \n",
       "3  0                 1               2        No        No        2          \n",
       "4 33                 3              51        Yes       Yes      25          \n",
       "5 26                21              77        Yes       No        6          \n",
       "6  3                 0              16        Yes       Yes       7          \n",
       "  ChairLifts GondolaLifts TotalLifts LiftCapacity SnowCannons\n",
       "1 16         11           49         75398         600       \n",
       "2 28          7           72         99017        1032       \n",
       "3  0          0            2          1932           0       \n",
       "4  8          3           36         32938         163       \n",
       "5 11         10           27         49228         450       \n",
       "6  1          0            8         28020           0       "
      ]
     },
     "metadata": {},
     "output_type": "display_data"
    },
    {
     "data": {
      "text/html": [
       "<table class=\"dataframe\">\n",
       "<caption>A tibble: 6 × 15</caption>\n",
       "<thead>\n",
       "\t<tr><th scope=col>HighestPoint</th><th scope=col>LowestPoint</th><th scope=col>DayPassPriceAdult</th><th scope=col>BeginnerSlope</th><th scope=col>IntermediateSlope</th><th scope=col>DifficultSlope</th><th scope=col>TotalSlope</th><th scope=col>Snowparks</th><th scope=col>NightSki</th><th scope=col>SurfaceLifts</th><th scope=col>ChairLifts</th><th scope=col>GondolaLifts</th><th scope=col>TotalLifts</th><th scope=col>LiftCapacity</th><th scope=col>SnowCannons</th></tr>\n",
       "\t<tr><th scope=col>&lt;dbl&gt;</th><th scope=col>&lt;dbl&gt;</th><th scope=col>&lt;dbl&gt;</th><th scope=col>&lt;dbl&gt;</th><th scope=col>&lt;dbl&gt;</th><th scope=col>&lt;dbl&gt;</th><th scope=col>&lt;dbl&gt;</th><th scope=col>&lt;chr&gt;</th><th scope=col>&lt;chr&gt;</th><th scope=col>&lt;dbl&gt;</th><th scope=col>&lt;dbl&gt;</th><th scope=col>&lt;dbl&gt;</th><th scope=col>&lt;dbl&gt;</th><th scope=col>&lt;dbl&gt;</th><th scope=col>&lt;dbl&gt;</th></tr>\n",
       "</thead>\n",
       "<tbody>\n",
       "\t<tr><td>1980</td><td> 740</td><td>52</td><td> 30</td><td>81</td><td> 4</td><td>115</td><td>Yes</td><td>No </td><td>22</td><td>16</td><td>11</td><td>49</td><td>75398</td><td> 600</td></tr>\n",
       "\t<tr><td>2640</td><td>1710</td><td>47</td><td>100</td><td>77</td><td>33</td><td>210</td><td>Yes</td><td>Yes</td><td>37</td><td>28</td><td> 7</td><td>72</td><td>99017</td><td>1032</td></tr>\n",
       "\t<tr><td>1130</td><td> 900</td><td>30</td><td>  1</td><td> 0</td><td> 1</td><td>  2</td><td>No </td><td>No </td><td> 2</td><td> 0</td><td> 0</td><td> 2</td><td> 1932</td><td>   0</td></tr>\n",
       "\t<tr><td>1620</td><td> 780</td><td>42</td><td> 15</td><td>33</td><td> 3</td><td> 51</td><td>Yes</td><td>Yes</td><td>25</td><td> 8</td><td> 3</td><td>36</td><td>32938</td><td> 163</td></tr>\n",
       "\t<tr><td>2320</td><td> 940</td><td>22</td><td> 30</td><td>26</td><td>21</td><td> 77</td><td>Yes</td><td>No </td><td> 6</td><td>11</td><td>10</td><td>27</td><td>49228</td><td> 450</td></tr>\n",
       "\t<tr><td> 910</td><td> 680</td><td>23</td><td> 12</td><td> 3</td><td> 0</td><td> 16</td><td>Yes</td><td>Yes</td><td> 7</td><td> 1</td><td> 0</td><td> 8</td><td>28020</td><td>   0</td></tr>\n",
       "</tbody>\n",
       "</table>\n"
      ],
      "text/latex": [
       "A tibble: 6 × 15\n",
       "\\begin{tabular}{lllllllllllllll}\n",
       " HighestPoint & LowestPoint & DayPassPriceAdult & BeginnerSlope & IntermediateSlope & DifficultSlope & TotalSlope & Snowparks & NightSki & SurfaceLifts & ChairLifts & GondolaLifts & TotalLifts & LiftCapacity & SnowCannons\\\\\n",
       " <dbl> & <dbl> & <dbl> & <dbl> & <dbl> & <dbl> & <dbl> & <chr> & <chr> & <dbl> & <dbl> & <dbl> & <dbl> & <dbl> & <dbl>\\\\\n",
       "\\hline\n",
       "\t 1980 &  740 & 52 &  30 & 81 &  4 & 115 & Yes & No  & 22 & 16 & 11 & 49 & 75398 &  600\\\\\n",
       "\t 2640 & 1710 & 47 & 100 & 77 & 33 & 210 & Yes & Yes & 37 & 28 &  7 & 72 & 99017 & 1032\\\\\n",
       "\t 1130 &  900 & 30 &   1 &  0 &  1 &   2 & No  & No  &  2 &  0 &  0 &  2 &  1932 &    0\\\\\n",
       "\t 1620 &  780 & 42 &  15 & 33 &  3 &  51 & Yes & Yes & 25 &  8 &  3 & 36 & 32938 &  163\\\\\n",
       "\t 2320 &  940 & 22 &  30 & 26 & 21 &  77 & Yes & No  &  6 & 11 & 10 & 27 & 49228 &  450\\\\\n",
       "\t  910 &  680 & 23 &  12 &  3 &  0 &  16 & Yes & Yes &  7 &  1 &  0 &  8 & 28020 &    0\\\\\n",
       "\\end{tabular}\n"
      ],
      "text/markdown": [
       "\n",
       "A tibble: 6 × 15\n",
       "\n",
       "| HighestPoint &lt;dbl&gt; | LowestPoint &lt;dbl&gt; | DayPassPriceAdult &lt;dbl&gt; | BeginnerSlope &lt;dbl&gt; | IntermediateSlope &lt;dbl&gt; | DifficultSlope &lt;dbl&gt; | TotalSlope &lt;dbl&gt; | Snowparks &lt;chr&gt; | NightSki &lt;chr&gt; | SurfaceLifts &lt;dbl&gt; | ChairLifts &lt;dbl&gt; | GondolaLifts &lt;dbl&gt; | TotalLifts &lt;dbl&gt; | LiftCapacity &lt;dbl&gt; | SnowCannons &lt;dbl&gt; |\n",
       "|---|---|---|---|---|---|---|---|---|---|---|---|---|---|---|\n",
       "| 1980 |  740 | 52 |  30 | 81 |  4 | 115 | Yes | No  | 22 | 16 | 11 | 49 | 75398 |  600 |\n",
       "| 2640 | 1710 | 47 | 100 | 77 | 33 | 210 | Yes | Yes | 37 | 28 |  7 | 72 | 99017 | 1032 |\n",
       "| 1130 |  900 | 30 |   1 |  0 |  1 |   2 | No  | No  |  2 |  0 |  0 |  2 |  1932 |    0 |\n",
       "| 1620 |  780 | 42 |  15 | 33 |  3 |  51 | Yes | Yes | 25 |  8 |  3 | 36 | 32938 |  163 |\n",
       "| 2320 |  940 | 22 |  30 | 26 | 21 |  77 | Yes | No  |  6 | 11 | 10 | 27 | 49228 |  450 |\n",
       "|  910 |  680 | 23 |  12 |  3 |  0 |  16 | Yes | Yes |  7 |  1 |  0 |  8 | 28020 |    0 |\n",
       "\n"
      ],
      "text/plain": [
       "  HighestPoint LowestPoint DayPassPriceAdult BeginnerSlope IntermediateSlope\n",
       "1 1980          740        52                 30           81               \n",
       "2 2640         1710        47                100           77               \n",
       "3 1130          900        30                  1            0               \n",
       "4 1620          780        42                 15           33               \n",
       "5 2320          940        22                 30           26               \n",
       "6  910          680        23                 12            3               \n",
       "  DifficultSlope TotalSlope Snowparks NightSki SurfaceLifts ChairLifts\n",
       "1  4             115        Yes       No       22           16        \n",
       "2 33             210        Yes       Yes      37           28        \n",
       "3  1               2        No        No        2            0        \n",
       "4  3              51        Yes       Yes      25            8        \n",
       "5 21              77        Yes       No        6           11        \n",
       "6  0              16        Yes       Yes       7            1        \n",
       "  GondolaLifts TotalLifts LiftCapacity SnowCannons\n",
       "1 11           49         75398         600       \n",
       "2  7           72         99017        1032       \n",
       "3  0            2          1932           0       \n",
       "4  3           36         32938         163       \n",
       "5 10           27         49228         450       \n",
       "6  0            8         28020           0       "
      ]
     },
     "metadata": {},
     "output_type": "display_data"
    }
   ],
   "source": [
    "# Cleaning the Data (removing unneeded columns, otherwise is clean already)\n",
    "head(raw_data)\n",
    "\n",
    "ski_data <- raw_data |>\n",
    "    select(HighestPoint:SnowCannons)\n",
    "\n",
    "head(ski_data)"
   ]
  },
  {
   "cell_type": "code",
   "execution_count": 5,
   "id": "b1fb5eb7-33bd-40a0-afcb-bfad9f6c0fee",
   "metadata": {},
   "outputs": [
    {
     "name": "stderr",
     "output_type": "stream",
     "text": [
      "Warning message in mean.default(X[[i]], ...):\n",
      "“argument is not numeric or logical: returning NA”\n",
      "Warning message in mean.default(X[[i]], ...):\n",
      "“argument is not numeric or logical: returning NA”\n"
     ]
    },
    {
     "data": {
      "text/html": [
       "<table class=\"dataframe\">\n",
       "<caption>A data.frame: 3 × 18</caption>\n",
       "<thead>\n",
       "\t<tr><th scope=col>variable</th><th scope=col>Observations</th><th scope=col>n_missing_rows</th><th scope=col>HighestPoint</th><th scope=col>LowestPoint</th><th scope=col>DayPassPriceAdult</th><th scope=col>BeginnerSlope</th><th scope=col>IntermediateSlope</th><th scope=col>DifficultSlope</th><th scope=col>TotalSlope</th><th scope=col>Snowparks</th><th scope=col>NightSki</th><th scope=col>SurfaceLifts</th><th scope=col>ChairLifts</th><th scope=col>GondolaLifts</th><th scope=col>TotalLifts</th><th scope=col>LiftCapacity</th><th scope=col>SnowCannons</th></tr>\n",
       "\t<tr><th scope=col>&lt;chr&gt;</th><th scope=col>&lt;int&gt;</th><th scope=col>&lt;int&gt;</th><th scope=col>&lt;dbl&gt;</th><th scope=col>&lt;dbl&gt;</th><th scope=col>&lt;dbl&gt;</th><th scope=col>&lt;dbl&gt;</th><th scope=col>&lt;dbl&gt;</th><th scope=col>&lt;dbl&gt;</th><th scope=col>&lt;dbl&gt;</th><th scope=col>&lt;dbl&gt;</th><th scope=col>&lt;dbl&gt;</th><th scope=col>&lt;dbl&gt;</th><th scope=col>&lt;dbl&gt;</th><th scope=col>&lt;dbl&gt;</th><th scope=col>&lt;dbl&gt;</th><th scope=col>&lt;dbl&gt;</th><th scope=col>&lt;dbl&gt;</th></tr>\n",
       "</thead>\n",
       "<tbody>\n",
       "\t<tr><td>Class Counts               </td><td>376</td><td>NA</td><td>      NA</td><td>      NA</td><td>NA</td><td>      NA</td><td>      NA</td><td>      NA</td><td>  NA</td><td>NA</td><td>NA</td><td>  NA</td><td>      NA</td><td>      NA</td><td>      NA</td><td>     NA</td><td>      NA</td></tr>\n",
       "\t<tr><td>Missing Rows               </td><td> NA</td><td> 0</td><td>      NA</td><td>      NA</td><td>NA</td><td>      NA</td><td>      NA</td><td>      NA</td><td>  NA</td><td>NA</td><td>NA</td><td>  NA</td><td>      NA</td><td>      NA</td><td>      NA</td><td>     NA</td><td>      NA</td></tr>\n",
       "\t<tr><td>Mean of Predictor Variables</td><td> NA</td><td>NA</td><td>1766.667</td><td>958.3333</td><td>36</td><td>31.33333</td><td>36.66667</td><td>10.33333</td><td>78.5</td><td>NA</td><td>NA</td><td>16.5</td><td>10.66667</td><td>5.166667</td><td>32.33333</td><td>47755.5</td><td>374.1667</td></tr>\n",
       "</tbody>\n",
       "</table>\n"
      ],
      "text/latex": [
       "A data.frame: 3 × 18\n",
       "\\begin{tabular}{llllllllllllllllll}\n",
       " variable & Observations & n\\_missing\\_rows & HighestPoint & LowestPoint & DayPassPriceAdult & BeginnerSlope & IntermediateSlope & DifficultSlope & TotalSlope & Snowparks & NightSki & SurfaceLifts & ChairLifts & GondolaLifts & TotalLifts & LiftCapacity & SnowCannons\\\\\n",
       " <chr> & <int> & <int> & <dbl> & <dbl> & <dbl> & <dbl> & <dbl> & <dbl> & <dbl> & <dbl> & <dbl> & <dbl> & <dbl> & <dbl> & <dbl> & <dbl> & <dbl>\\\\\n",
       "\\hline\n",
       "\t Class Counts                & 376 & NA &       NA &       NA & NA &       NA &       NA &       NA &   NA & NA & NA &   NA &       NA &       NA &       NA &      NA &       NA\\\\\n",
       "\t Missing Rows                &  NA &  0 &       NA &       NA & NA &       NA &       NA &       NA &   NA & NA & NA &   NA &       NA &       NA &       NA &      NA &       NA\\\\\n",
       "\t Mean of Predictor Variables &  NA & NA & 1766.667 & 958.3333 & 36 & 31.33333 & 36.66667 & 10.33333 & 78.5 & NA & NA & 16.5 & 10.66667 & 5.166667 & 32.33333 & 47755.5 & 374.1667\\\\\n",
       "\\end{tabular}\n"
      ],
      "text/markdown": [
       "\n",
       "A data.frame: 3 × 18\n",
       "\n",
       "| variable &lt;chr&gt; | Observations &lt;int&gt; | n_missing_rows &lt;int&gt; | HighestPoint &lt;dbl&gt; | LowestPoint &lt;dbl&gt; | DayPassPriceAdult &lt;dbl&gt; | BeginnerSlope &lt;dbl&gt; | IntermediateSlope &lt;dbl&gt; | DifficultSlope &lt;dbl&gt; | TotalSlope &lt;dbl&gt; | Snowparks &lt;dbl&gt; | NightSki &lt;dbl&gt; | SurfaceLifts &lt;dbl&gt; | ChairLifts &lt;dbl&gt; | GondolaLifts &lt;dbl&gt; | TotalLifts &lt;dbl&gt; | LiftCapacity &lt;dbl&gt; | SnowCannons &lt;dbl&gt; |\n",
       "|---|---|---|---|---|---|---|---|---|---|---|---|---|---|---|---|---|---|\n",
       "| Class Counts                | 376 | NA |       NA |       NA | NA |       NA |       NA |       NA |   NA | NA | NA |   NA |       NA |       NA |       NA |      NA |       NA |\n",
       "| Missing Rows                |  NA |  0 |       NA |       NA | NA |       NA |       NA |       NA |   NA | NA | NA |   NA |       NA |       NA |       NA |      NA |       NA |\n",
       "| Mean of Predictor Variables |  NA | NA | 1766.667 | 958.3333 | 36 | 31.33333 | 36.66667 | 10.33333 | 78.5 | NA | NA | 16.5 | 10.66667 | 5.166667 | 32.33333 | 47755.5 | 374.1667 |\n",
       "\n"
      ],
      "text/plain": [
       "  variable                    Observations n_missing_rows HighestPoint\n",
       "1 Class Counts                376          NA                   NA    \n",
       "2 Missing Rows                 NA           0                   NA    \n",
       "3 Mean of Predictor Variables  NA          NA             1766.667    \n",
       "  LowestPoint DayPassPriceAdult BeginnerSlope IntermediateSlope DifficultSlope\n",
       "1       NA    NA                      NA            NA                NA      \n",
       "2       NA    NA                      NA            NA                NA      \n",
       "3 958.3333    36                31.33333      36.66667          10.33333      \n",
       "  TotalSlope Snowparks NightSki SurfaceLifts ChairLifts GondolaLifts TotalLifts\n",
       "1   NA       NA        NA         NA               NA         NA           NA  \n",
       "2   NA       NA        NA         NA               NA         NA           NA  \n",
       "3 78.5       NA        NA       16.5         10.66667   5.166667     32.33333  \n",
       "  LiftCapacity SnowCannons\n",
       "1      NA            NA   \n",
       "2      NA            NA   \n",
       "3 47755.5      374.1667   "
      ]
     },
     "metadata": {},
     "output_type": "display_data"
    }
   ],
   "source": [
    "# Summary Table\n",
    "#    TODO\n",
    "# Count the number of observations in each class\n",
    "class_counts <- count(ski_data, wt = NULL, sort = FALSE, name = \"Observations\")\n",
    "\n",
    "# Count the number of rows with missing values in the dataset\n",
    "n_missing_rows <- sum(!complete.cases(ski_data))\n",
    "# Create a data frame with the given data\n",
    "df <- data.frame(\n",
    "  HighestPoint = c(1980, 2640, 1130, 1620, 2320, 910),\n",
    "  LowestPoint = c(740, 1710, 900, 780, 940, 680),\n",
    "  DayPassPriceAdult = c(52, 47, 30, 42, 22, 23),\n",
    "  BeginnerSlope = c(30, 100, 1, 15, 30, 12),\n",
    "  IntermediateSlope = c(81, 77, 0, 33, 26, 3),\n",
    "  DifficultSlope = c(4, 33, 1, 3, 21, 0),\n",
    "  TotalSlope = c(115, 210, 2, 51, 77, 16),\n",
    "  Snowparks = c(\"Yes\", \"Yes\", \"No\", \"Yes\", \"Yes\", \"Yes\"),\n",
    "  NightSki = c(\"No\", \"Yes\", \"No\", \"Yes\", \"No\", \"Yes\"),\n",
    "  SurfaceLifts = c(22, 37, 2, 25, 6, 7),\n",
    "  ChairLifts = c(16, 28, 0, 8, 11, 1),\n",
    "  GondolaLifts = c(11, 7, 0, 3, 10, 0),\n",
    "  TotalLifts = c(49, 72, 2, 36, 27, 8),\n",
    "  LiftCapacity = c(75398, 99017, 1932, 32938, 49228, 28020),\n",
    "  SnowCannons = c(600, 1032, 0, 163, 450, 0)\n",
    ")\n",
    "\n",
    "# Calculate the mean of the predictor variables\n",
    "mean_df <- sapply(df[,1:15], mean)\n",
    "\n",
    "output_table <- bind_rows(\n",
    "  data.frame(variable = \"Class Counts\", class_counts),\n",
    "  data.frame(variable = \"Missing Rows\", n_missing_rows),\n",
    "  data.frame(variable = \"Mean of Predictor Variables\", t(mean_df))\n",
    ")\n",
    "\n",
    "# View the output table\n",
    "output_table"
   ]
  },
  {
   "cell_type": "code",
   "execution_count": 9,
   "id": "2cef6ee3-df61-42f1-bf7b-7ffe8483602e",
   "metadata": {},
   "outputs": [
    {
     "data": {
      "image/png": "[encoded data removed]",
      "text/plain": [
       "plot without title"
      ]
     },
     "metadata": {
      "image/png": {
       "height": 420,
       "width": 420
      }
     },
     "output_type": "display_data"
    }
   ],
   "source": [
    "# Summary Visualization\n",
    "#    TODO\n",
    "plot <- ggplot(ski_data, aes(x=TotalSlope,y=DayPassPriceAdult))+\n",
    "        geom_point() +\n",
    "        labs(x=\"Number of Slopes\",y=\"Price of Adult Day Pass\",title=\"Snow Cannons vs Pass Price\")\n",
    "plot"
   ]
  },
  {
   "cell_type": "markdown",
   "id": "3a6ec95f-e4a6-406f-a2e2-4994d44eab63",
   "metadata": {},
   "source": [
    "## Methods\n",
    "We’ll use the numeric and boolean columns (all but Resort Name, Country and Row number) to help us predict DayPassPriceAdult - the price of a Day Pass for a resort. Country is too varied to help us gain accuracy in prediction and is thus excluded. Row number, similarly, isn't relevant and the resort name is unique and most likely has no impact on ticket price.\n",
    "\n",
    "There are many ways we can use the linear regression model we learnt in Week 8 to predict the price of a lift ticket in a new ski resort. We can create multiple recipes — each with different variables as predictors — before plotting them to see if there was any sort of correlation. As an example; we can create a recipe that predicts the price of tickets by using Total Slopes as the predictor. We can then graph these with a scatter plot and trend line to determine if there are any trends between all plots."
   ]
  },
  {
   "cell_type": "markdown",
   "id": "a8f2614f-991e-4964-aa0d-c88fd5f22555",
   "metadata": {},
   "source": [
    "## Expected outcomes and significance\n",
    "\n",
    "There is no certain way we can predetermine our predictions; there could be outliers that break the trend we find. However, as higher quality often means more expenses, we expect to find resorts with better quality (more Slopes, Lifts, Lift Capacity, Snow Cannons, and so on) to be more expensive.\n",
    "\n",
    "Our findings would be important for those who like skiing and have a budget. Finding whether or not there is a pattern linking price and certain aspects of a resort would greatly help those who ski to save money. We're, in a sense, finding the way to predict whether a new and unknown ski resort will deliver a good cost-to-fun efficiency. As inflation is always increasing everywhere, it would be useful to have some method of saving some money without losing all the things that make life enjoyable.\n",
    "\n",
    "These findings may lead to questions like: How can a resort maximize profit while minimizing expenses on facilities? How should the difficulty of ski slopes affect prices?"
   ]
  },
  {
   "cell_type": "code",
   "execution_count": null,
   "id": "3286cbd5-de84-4891-94c2-47540ad8309f",
   "metadata": {},
   "outputs": [],
   "source": []
  }
 ],
 "metadata": {
  "kernelspec": {
   "display_name": "R",
   "language": "R",
   "name": "ir"
  },
  "language_info": {
   "codemirror_mode": "r",
   "file_extension": ".r",
   "mimetype": "text/x-r-source",
   "name": "R",
   "pygments_lexer": "r",
   "version": "4.1.3"
  }
 },
 "nbformat": 4,
 "nbformat_minor": 5
}
