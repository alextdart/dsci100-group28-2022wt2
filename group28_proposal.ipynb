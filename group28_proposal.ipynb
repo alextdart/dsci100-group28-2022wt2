{
 "cells": [
  {
   "cell_type": "markdown",
   "id": "079c811a-4264-4a3d-b391-a5f735168e88",
   "metadata": {},
   "source": [
    "# Predicting Ski Resort Lift Ticket Prices\n",
    "### By Group 28"
   ]
  },
  {
   "cell_type": "markdown",
   "id": "c7c0bbbe-2485-4ee0-86fa-9667505a7ba5",
   "metadata": {
    "jp-MarkdownHeadingCollapsed": true,
    "tags": []
   },
   "source": [
    "## Introduction\n",
    "Anyone who has skied or snowboarded in the past few years will almost certainly have noticed the rapid increase in lift ticket prices - what used to be 70-100 dollars a day can now reach as high as 220 or more for a single day’s lift ticket at modern, large (often Vail Resorts owned) ski resort around North America and Europe. \n",
    "\n",
    "In this investigation we plan on trying to find the link - comparing factors of many European ski resorts like Max Altitude, Min Altitude, Total Runs, Run Difficulties, Number of Lifts, Snowmaking Capacity and more to determine what factors really affect the lift ticket price the most. We will then use this data to predict lift ticket prices for new resorts to match fair market price. \n",
    "\n",
    "This will all be completed using Kaggle user thomasnibb’s “European Ski Resorts” dataset, found at https://www.kaggle.com/datasets/thomasnibb/european-ski-resorts."
   ]
  },
  {
   "cell_type": "markdown",
   "id": "63642c6e-7392-4a90-ae32-21b7de986146",
   "metadata": {},
   "source": [
    "## Preliminary exploratory data analysis\n",
    "Here we will demonstrate how the data can be read in to R via the web, clean and tidy the data, then summarize the data in both a table and visualization format."
   ]
  },
  {
   "cell_type": "code",
   "execution_count": 8,
   "id": "bbff823d-fb84-4b43-8bbf-981446a1117c",
   "metadata": {},
   "outputs": [
    {
     "name": "stderr",
     "output_type": "stream",
     "text": [
      "\u001b[1mRows: \u001b[22m\u001b[34m376\u001b[39m \u001b[1mColumns: \u001b[22m\u001b[34m18\u001b[39m\n",
      "\u001b[36m──\u001b[39m \u001b[1mColumn specification\u001b[22m \u001b[36m────────────────────────────────────────────────────────\u001b[39m\n",
      "\u001b[1mDelimiter:\u001b[22m \",\"\n",
      "\u001b[31mchr\u001b[39m  (4): Resort, Country, Snowparks, NightSki\n",
      "\u001b[32mdbl\u001b[39m (14): Row, HighestPoint, LowestPoint, DayPassPriceAdult, BeginnerSlope, ...\n",
      "\n",
      "\u001b[36mℹ\u001b[39m Use `spec()` to retrieve the full column specification for this data.\n",
      "\u001b[36mℹ\u001b[39m Specify the column types or set `show_col_types = FALSE` to quiet this message.\n"
     ]
    }
   ],
   "source": [
    "library(tidyverse)\n",
    "\n",
    "# Reading the Data\n",
    "url <- \"https://raw.githubusercontent.com/alextdart/dsci100-group28-2022wt2/main/European_Ski_Resorts.csv\"\n",
    "ski_data <- read_csv(url)\n",
    "\n",
    "# Cleaning the Data\n",
    "\n",
    "\n",
    "# Summary Table\n",
    "\n",
    "\n",
    "# Summary Visualization\n"
   ]
  },
  {
   "cell_type": "markdown",
   "id": "3a6ec95f-e4a6-406f-a2e2-4994d44eab63",
   "metadata": {},
   "source": [
    "## Methods\n",
    "Explain how you will conduct either your data analysis and which variables/columns you will use. \n",
    "\n",
    "Note - you do not need to use all variables/columns that exist in the raw data set. In fact, that's often not a good idea. For each variable think: is this a useful variable for prediction?\n",
    "Describe at least one way that you will visualize the results"
   ]
  },
  {
   "cell_type": "markdown",
   "id": "a8f2614f-991e-4964-aa0d-c88fd5f22555",
   "metadata": {},
   "source": [
    "## Expected outcomes and significance\n",
    "\n",
    "What do you expect to find?\n",
    "What impact could such findings have?\n",
    "What future questions could this lead to?"
   ]
  },
  {
   "cell_type": "code",
   "execution_count": null,
   "id": "a90418f2-f174-4604-ac15-9ca8a1ffe347",
   "metadata": {},
   "outputs": [],
   "source": []
  }
 ],
 "metadata": {
  "kernelspec": {
   "display_name": "R",
   "language": "R",
   "name": "ir"
  },
  "language_info": {
   "codemirror_mode": "r",
   "file_extension": ".r",
   "mimetype": "text/x-r-source",
   "name": "R",
   "pygments_lexer": "r",
   "version": "4.1.3"
  }
 },
 "nbformat": 4,
 "nbformat_minor": 5
}
