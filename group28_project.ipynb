{
 "cells": [
  {
   "cell_type": "markdown",
   "id": "bcc4ee35-b54d-49ba-be4f-dcaae26b711e",
   "metadata": {
    "tags": []
   },
   "source": [
    "# Predicting Ski Resort Lift Ticket Prices\n",
    "### By Group 28"
   ]
  },
  {
   "cell_type": "markdown",
   "id": "0c3b3e12-63c8-4e6a-9143-2bd30f7522e8",
   "metadata": {},
   "source": [
    "## Introduction\n",
    "\n",
    "* provide some relevant background information on the topic so that someone unfamiliar with it will be prepared to understand the rest of your report\n",
    "* clearly state the question you tried to answer with your project\n",
    "* identify and describe the dataset that was used to answer the question"
   ]
  },
  {
   "cell_type": "markdown",
   "id": "ec9e3fdc-1118-4d85-9b3a-712a12d410e6",
   "metadata": {},
   "source": [
    "## Methods & Results\n",
    "\n",
    "* describe in written English the methods you used to perform your analysis from beginning to end that narrates the code the does the analysis.\n",
    "* your report should include code which:\n",
    "  - loads data from the original source on the web \n",
    "  - wrangles and cleans the data from it's original (downloaded) format to the format necessary for the planned analysis\n",
    "  - performs a summary of the data set that is relevant for exploratory data analysis related to the planned analysis \n",
    "  - creates a visualization of the dataset that is relevant for exploratory data analysis related to the planned analysis\n",
    "  - performs the data analysis\n",
    "  - creates a visualization of the analysis \n",
    "\n",
    "note: all tables and figure should have a figure/table number and a legend"
   ]
  },
  {
   "cell_type": "markdown",
   "id": "8c830823-599b-443b-a921-da9da05aec2d",
   "metadata": {
    "jp-MarkdownHeadingCollapsed": true,
    "tags": []
   },
   "source": [
    "### Attaching Libraries"
   ]
  },
  {
   "cell_type": "code",
   "execution_count": 2,
   "id": "253ef18f-31a3-41a5-93f5-0e269f32d0bd",
   "metadata": {},
   "outputs": [
    {
     "name": "stderr",
     "output_type": "stream",
     "text": [
      "── \u001b[1mAttaching packages\u001b[22m ─────────────────────────────────────── tidyverse 1.3.1 ──\n",
      "\n",
      "\u001b[32m✔\u001b[39m \u001b[34mggplot2\u001b[39m 3.3.6     \u001b[32m✔\u001b[39m \u001b[34mpurrr  \u001b[39m 0.3.4\n",
      "\u001b[32m✔\u001b[39m \u001b[34mtibble \u001b[39m 3.1.7     \u001b[32m✔\u001b[39m \u001b[34mdplyr  \u001b[39m 1.0.9\n",
      "\u001b[32m✔\u001b[39m \u001b[34mtidyr  \u001b[39m 1.2.0     \u001b[32m✔\u001b[39m \u001b[34mstringr\u001b[39m 1.4.0\n",
      "\u001b[32m✔\u001b[39m \u001b[34mreadr  \u001b[39m 2.1.2     \u001b[32m✔\u001b[39m \u001b[34mforcats\u001b[39m 0.5.1\n",
      "\n",
      "── \u001b[1mConflicts\u001b[22m ────────────────────────────────────────── tidyverse_conflicts() ──\n",
      "\u001b[31m✖\u001b[39m \u001b[34mdplyr\u001b[39m::\u001b[32mfilter()\u001b[39m masks \u001b[34mstats\u001b[39m::filter()\n",
      "\u001b[31m✖\u001b[39m \u001b[34mdplyr\u001b[39m::\u001b[32mlag()\u001b[39m    masks \u001b[34mstats\u001b[39m::lag()\n",
      "\n",
      "── \u001b[1mAttaching packages\u001b[22m ────────────────────────────────────── tidymodels 1.0.0 ──\n",
      "\n",
      "\u001b[32m✔\u001b[39m \u001b[34mbroom       \u001b[39m 1.0.0     \u001b[32m✔\u001b[39m \u001b[34mrsample     \u001b[39m 1.0.0\n",
      "\u001b[32m✔\u001b[39m \u001b[34mdials       \u001b[39m 1.0.0     \u001b[32m✔\u001b[39m \u001b[34mtune        \u001b[39m 1.0.0\n",
      "\u001b[32m✔\u001b[39m \u001b[34mmodeldata   \u001b[39m 1.0.0     \u001b[32m✔\u001b[39m \u001b[34mworkflows   \u001b[39m 1.0.0\n",
      "\u001b[32m✔\u001b[39m \u001b[34mparsnip     \u001b[39m 1.0.0     \u001b[32m✔\u001b[39m \u001b[34mworkflowsets\u001b[39m 1.0.0\n",
      "\u001b[32m✔\u001b[39m \u001b[34mrecipes     \u001b[39m 1.0.1     \u001b[32m✔\u001b[39m \u001b[34myardstick   \u001b[39m 1.0.0\n",
      "\n",
      "── \u001b[1mConflicts\u001b[22m ───────────────────────────────────────── tidymodels_conflicts() ──\n",
      "\u001b[31m✖\u001b[39m \u001b[34mscales\u001b[39m::\u001b[32mdiscard()\u001b[39m masks \u001b[34mpurrr\u001b[39m::discard()\n",
      "\u001b[31m✖\u001b[39m \u001b[34mdplyr\u001b[39m::\u001b[32mfilter()\u001b[39m   masks \u001b[34mstats\u001b[39m::filter()\n",
      "\u001b[31m✖\u001b[39m \u001b[34mrecipes\u001b[39m::\u001b[32mfixed()\u001b[39m  masks \u001b[34mstringr\u001b[39m::fixed()\n",
      "\u001b[31m✖\u001b[39m \u001b[34mdplyr\u001b[39m::\u001b[32mlag()\u001b[39m      masks \u001b[34mstats\u001b[39m::lag()\n",
      "\u001b[31m✖\u001b[39m \u001b[34myardstick\u001b[39m::\u001b[32mspec()\u001b[39m masks \u001b[34mreadr\u001b[39m::spec()\n",
      "\u001b[31m✖\u001b[39m \u001b[34mrecipes\u001b[39m::\u001b[32mstep()\u001b[39m   masks \u001b[34mstats\u001b[39m::step()\n",
      "\u001b[34m•\u001b[39m Learn how to get started at \u001b[32mhttps://www.tidymodels.org/start/\u001b[39m\n",
      "\n",
      "Registered S3 method overwritten by 'GGally':\n",
      "  method from   \n",
      "  +.gg   ggplot2\n",
      "\n"
     ]
    }
   ],
   "source": [
    "# Run First\n",
    "library(tidyverse)\n",
    "library(repr)\n",
    "library(infer)\n",
    "library(cowplot)\n",
    "library(tidymodels)\n",
    "library(GGally)\n",
    "library(ISLR)"
   ]
  },
  {
   "cell_type": "markdown",
   "id": "f2c0a0fe-5d80-4b8e-92e5-988c76acecaa",
   "metadata": {
    "jp-MarkdownHeadingCollapsed": true,
    "tags": []
   },
   "source": [
    "### Reading and Cleaning Data"
   ]
  },
  {
   "cell_type": "code",
   "execution_count": 3,
   "id": "30b9fb53-dc88-428a-86d3-0c9fefce60f8",
   "metadata": {},
   "outputs": [],
   "source": [
    "# Reading the Data\n",
    "url <- \"https://raw.githubusercontent.com/alextdart/dsci100-group28-2022wt2/main/European_Ski_Resorts.csv\"\n",
    "raw_data <- read_csv(url, show_col_types = FALSE)\n",
    "\n",
    "# Removing Unneeded Columns (Resort Name and Row Number)\n",
    "ski_data <- raw_data |>\n",
    "    select(HighestPoint:SnowCannons)"
   ]
  },
  {
   "cell_type": "markdown",
   "id": "314ace9a-ba1b-45fa-8af2-07e0e68c42bc",
   "metadata": {
    "jp-MarkdownHeadingCollapsed": true,
    "tags": []
   },
   "source": [
    "### Exploratory Data Analysis"
   ]
  },
  {
   "cell_type": "code",
   "execution_count": 4,
   "id": "eff8f06a-104c-4e38-91b9-8a5b66ff95b4",
   "metadata": {},
   "outputs": [
    {
     "data": {
      "text/plain": [
       "  HighestPoint   LowestPoint     DayPassPriceAdult BeginnerSlope   \n",
       " Min.   :   0   Min.   :   0.0   Min.   : 0.00     Min.   :  0.00  \n",
       " 1st Qu.:1550   1st Qu.: 779.2   1st Qu.:34.00     1st Qu.:  8.00  \n",
       " Median :2104   Median :1050.0   Median :42.00     Median : 19.00  \n",
       " Mean   :2052   Mean   :1055.1   Mean   :40.78     Mean   : 35.87  \n",
       " 3rd Qu.:2568   3rd Qu.:1350.0   3rd Qu.:49.00     3rd Qu.: 40.00  \n",
       " Max.   :3899   Max.   :2180.0   Max.   :81.00     Max.   :312.00  \n",
       " IntermediateSlope DifficultSlope     TotalSlope      Snowparks        \n",
       " Min.   :  0.00    Min.   :  0.00   Min.   :  0.00   Length:376        \n",
       " 1st Qu.:  9.00    1st Qu.:  2.00   1st Qu.: 25.00   Class :character  \n",
       " Median : 22.00    Median :  5.00   Median : 48.00   Mode  :character  \n",
       " Mean   : 38.35    Mean   : 11.78   Mean   : 86.26                     \n",
       " 3rd Qu.: 42.25    3rd Qu.: 13.00   3rd Qu.:100.00                     \n",
       " Max.   :239.00    Max.   :103.00   Max.   :600.00                     \n",
       "   NightSki          SurfaceLifts     ChairLifts     GondolaLifts   \n",
       " Length:376         Min.   : 0.00   Min.   : 0.00   Min.   : 0.000  \n",
       " Class :character   1st Qu.: 5.00   1st Qu.: 2.00   1st Qu.: 0.000  \n",
       " Mode  :character   Median : 9.00   Median : 5.00   Median : 2.000  \n",
       "                    Mean   :13.66   Mean   : 9.34   Mean   : 3.955  \n",
       "                    3rd Qu.:17.00   3rd Qu.:10.00   3rd Qu.: 5.000  \n",
       "                    Max.   :89.00   Max.   :74.00   Max.   :40.000  \n",
       "   TotalLifts      LiftCapacity     SnowCannons    \n",
       " Min.   :  0.00   Min.   :     0   Min.   :   0.0  \n",
       " 1st Qu.: 10.00   1st Qu.: 10642   1st Qu.:   0.0  \n",
       " Median : 17.00   Median : 19032   Median :  54.0  \n",
       " Mean   : 26.96   Mean   : 34727   Mean   : 218.4  \n",
       " 3rd Qu.: 29.25   3rd Qu.: 36556   3rd Qu.: 252.0  \n",
       " Max.   :174.00   Max.   :252280   Max.   :2383.0  "
      ]
     },
     "metadata": {},
     "output_type": "display_data"
    }
   ],
   "source": [
    "# Summary\n",
    "summary(ski_data)"
   ]
  },
  {
   "cell_type": "code",
   "execution_count": 5,
   "id": "6cd03f23-5a85-4514-978a-e707979d990d",
   "metadata": {},
   "outputs": [
    {
     "name": "stderr",
     "output_type": "stream",
     "text": [
      "`stat_bin()` using `bins = 30`. Pick better value with `binwidth`.\n",
      "\n"
     ]
    },
    {
     "data": {
      "image/png": "[encoded data removed]",
      "text/plain": [
       "plot without title"
      ]
     },
     "metadata": {
      "image/png": {
       "height": 360,
       "width": 840
      }
     },
     "output_type": "display_data"
    }
   ],
   "source": [
    "# Response Variable Distribution Chart\n",
    "daypass_dist <- ski_data |>\n",
    "    ggplot(aes(x = DayPassPriceAdult)) +\n",
    "    geom_histogram(binwidth = 2) +\n",
    "    labs(title = \"Figure 1. Day Pass Price Distribution\", x = \"Price\", y = \"Count\")\n",
    "\n",
    "# Other Variable Distributions Chart\n",
    "other_eda_dists <- ski_data |>\n",
    "    keep(is.numeric) |>\n",
    "    select(-DayPassPriceAdult) |>\n",
    "    gather() |>\n",
    "    ggplot(aes(value)) +\n",
    "    facet_wrap(~ key, scales = \"free\") +\n",
    "    geom_histogram() +\n",
    "    labs(title = \"Figure 2. Other Variable Distributions\", x = \"\", y = \"\")\n",
    "\n",
    "options(repr.plot.width = 14, repr.plot.height = 6)\n",
    "plot_grid(daypass_dist, other_eda_dists, ncol = 2)"
   ]
  },
  {
   "cell_type": "code",
   "execution_count": 7,
   "id": "73c3ab9a-d582-4641-911b-505368b4a47f",
   "metadata": {},
   "outputs": [
    {
     "data": {
      "text/html": [
       "<style>\n",
       ".dl-inline {width: auto; margin:0; padding: 0}\n",
       ".dl-inline>dt, .dl-inline>dd {float: none; width: auto; display: inline-block}\n",
       ".dl-inline>dt::after {content: \":\\0020\"; padding-right: .5ex}\n",
       ".dl-inline>dt:not(:first-of-type) {padding-left: .5ex}\n",
       "</style><dl class=dl-inline><dt>HighestPoint</dt><dd>0.533</dd><dt>LowestPoint</dt><dd>0.202</dd><dt>TotalSlope</dt><dd>0.509</dd><dt>TotalLifts</dt><dd>0.463</dd><dt>LiftCapacity</dt><dd>0.463</dd><dt>SnowCannons</dt><dd>0.391</dd></dl>\n"
      ],
      "text/latex": [
       "\\begin{description*}\n",
       "\\item[HighestPoint] 0.533\n",
       "\\item[LowestPoint] 0.202\n",
       "\\item[TotalSlope] 0.509\n",
       "\\item[TotalLifts] 0.463\n",
       "\\item[LiftCapacity] 0.463\n",
       "\\item[SnowCannons] 0.391\n",
       "\\end{description*}\n"
      ],
      "text/markdown": [
       "HighestPoint\n",
       ":   0.533LowestPoint\n",
       ":   0.202TotalSlope\n",
       ":   0.509TotalLifts\n",
       ":   0.463LiftCapacity\n",
       ":   0.463SnowCannons\n",
       ":   0.391\n",
       "\n"
      ],
      "text/plain": [
       "HighestPoint  LowestPoint   TotalSlope   TotalLifts LiftCapacity  SnowCannons \n",
       "       0.533        0.202        0.509        0.463        0.463        0.391 "
      ]
     },
     "metadata": {},
     "output_type": "display_data"
    }
   ],
   "source": [
    "# Correlation with Day Pass Price of Major Variables of Interest\n",
    "ski_correlation <- ski_data |>\n",
    "    select(DayPassPriceAdult, HighestPoint, LowestPoint,  \n",
    "           TotalSlope, TotalLifts, LiftCapacity, SnowCannons) |>\n",
    "    cor() |>\n",
    "    round(3) \n",
    "    \n",
    "ski_correlation[1,2:7]"
   ]
  },
  {
   "cell_type": "markdown",
   "id": "e047c09c-0cd7-41ef-bd3d-8832e883c0ba",
   "metadata": {},
   "source": [
    "### Data Analysis"
   ]
  },
  {
   "cell_type": "code",
   "execution_count": 8,
   "id": "555a4db9-be08-428e-b81a-fbacad8ae4bd",
   "metadata": {},
   "outputs": [],
   "source": [
    "#todo: code this\n",
    "set.seed(5555)\n",
    "\n",
    "ski_data_numeric <- ski_data |>\n",
    "                 keep(is.numeric)\n",
    "\n",
    "ski_split <- initial_split(ski_data_numeric, prop = 0.70, strata = DayPassPriceAdult)  \n",
    "ski_train <- training(ski_split)\n",
    "ski_test <- testing(ski_split)\n",
    "\n",
    "gridvals <- tibble(neighbors = seq(1, 10, 1))\n",
    "\n",
    "knn_spec <- nearest_neighbor(weight_func = \"rectangular\", neighbors = tune()) |>\n",
    "            set_engine(\"kknn\") |>\n",
    "            set_mode(\"regression\")\n",
    "\n",
    "ski_vfold <- vfold_cv(ski_train, v = 5, strata = DayPassPriceAdult)\n",
    "\n",
    "ski_recipe <- recipe(DayPassPriceAdult ~ ., data = ski_train) |>\n",
    "              step_scale(all_predictors()) |>\n",
    "              step_center(all_predictors())\n",
    "\n",
    "ski_fit <- workflow() |> \n",
    "           add_recipe(ski_recipe) |>\n",
    "           add_model(knn_spec) |>\n",
    "           tune_grid(resamples = ski_vfold, grid = gridvals) |>\n",
    "           collect_metrics() |>\n",
    "           filter(.metric == \"rmse\") |>\n",
    "           arrange(mean) |>\n",
    "           filter(mean == min(mean))\n",
    "\n",
    "ski_k <- ski_fit |>\n",
    "         pull(neighbors)\n",
    "\n",
    "ski_spec <- nearest_neighbor(weight_func = \"rectangular\", neighbors = ski_k) |>\n",
    "            set_engine(\"kknn\") |>\n",
    "            set_mode(\"regression\")"
   ]
  },
  {
   "cell_type": "markdown",
   "id": "f8a28e3f-8c65-45f1-b406-a5125d45b07c",
   "metadata": {},
   "source": [
    "### Data Analysis Visualization"
   ]
  },
  {
   "cell_type": "code",
   "execution_count": 51,
   "id": "d5c3dfb3-f10b-4fae-a55f-69ffd413d2a9",
   "metadata": {},
   "outputs": [],
   "source": [
    "#todo: code this"
   ]
  },
  {
   "cell_type": "markdown",
   "id": "7563e513-1c20-4172-822e-1a28f8be04cb",
   "metadata": {},
   "source": [
    "## Discussion\n",
    "\n",
    "* summarize what you found\n",
    "* discuss whether this is what you expected to find?\n",
    "* discuss what impact could such findings have?\n",
    "* discuss what future questions could this lead to?"
   ]
  },
  {
   "cell_type": "markdown",
   "id": "703f1271-64d0-4ca3-bab3-e164281e6dcc",
   "metadata": {},
   "source": [
    "todo: write this"
   ]
  },
  {
   "cell_type": "markdown",
   "id": "3627c911-51ef-4dbc-b765-b0df83638dab",
   "metadata": {},
   "source": [
    "## References\n",
    "\n",
    "* At least 2 citations of literature relevant to the project (format is your choice, just be consistent across the references).\n",
    "* Make sure to cite the source of your data as well."
   ]
  },
  {
   "cell_type": "markdown",
   "id": "8c01f98b-1ac5-4b57-ae85-df91e50ad433",
   "metadata": {},
   "source": [
    "todo: write this"
   ]
  }
 ],
 "metadata": {
  "kernelspec": {
   "display_name": "R",
   "language": "R",
   "name": "ir"
  },
  "language_info": {
   "codemirror_mode": "r",
   "file_extension": ".r",
   "mimetype": "text/x-r-source",
   "name": "R",
   "pygments_lexer": "r",
   "version": "4.1.3"
  }
 },
 "nbformat": 4,
 "nbformat_minor": 5
}
