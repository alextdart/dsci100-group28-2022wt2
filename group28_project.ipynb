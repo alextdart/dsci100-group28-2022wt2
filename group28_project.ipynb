{
 "cells": [
  {
   "cell_type": "markdown",
   "id": "bcc4ee35-b54d-49ba-be4f-dcaae26b711e",
   "metadata": {
    "tags": []
   },
   "source": [
    "# Predicting Ski Resort Lift Ticket Prices\n",
    "### By Group 28"
   ]
  },
  {
   "cell_type": "markdown",
   "id": "0c3b3e12-63c8-4e6a-9143-2bd30f7522e8",
   "metadata": {},
   "source": [
    "## Introduction\n",
    "\n",
    "* provide some relevant background information on the topic so that someone unfamiliar with it will be prepared to understand the rest of your report\n",
    "* clearly state the question you tried to answer with your project\n",
    "* identify and describe the dataset that was used to answer the question"
   ]
  },
  {
   "cell_type": "markdown",
   "id": "ec9e3fdc-1118-4d85-9b3a-712a12d410e6",
   "metadata": {},
   "source": [
    "## Methods & Results\n",
    "\n",
    "* describe in written English the methods you used to perform your analysis from beginning to end that narrates the code the does the analysis.\n",
    "* your report should include code which:\n",
    "  - loads data from the original source on the web \n",
    "  - wrangles and cleans the data from it's original (downloaded) format to the format necessary for the planned analysis\n",
    "  - performs a summary of the data set that is relevant for exploratory data analysis related to the planned analysis \n",
    "  - creates a visualization of the dataset that is relevant for exploratory data analysis related to the planned analysis\n",
    "  - performs the data analysis\n",
    "  - creates a visualization of the analysis \n",
    "\n",
    "note: all tables and figure should have a figure/table number and a legend"
   ]
  },
  {
   "cell_type": "markdown",
   "id": "7563e513-1c20-4172-822e-1a28f8be04cb",
   "metadata": {},
   "source": [
    "## Discussion\n",
    "\n",
    "* summarize what you found\n",
    "* discuss whether this is what you expected to find?\n",
    "* discuss what impact could such findings have?\n",
    "* discuss what future questions could this lead to?"
   ]
  },
  {
   "cell_type": "markdown",
   "id": "3627c911-51ef-4dbc-b765-b0df83638dab",
   "metadata": {},
   "source": [
    "## References\n",
    "\n",
    "* At least 2 citations of literature relevant to the project (format is your choice, just be consistent across the references).\n",
    "* Make sure to cite the source of your data as well."
   ]
  },
  {
   "cell_type": "code",
   "execution_count": null,
   "id": "323ead73-1e50-4f77-86c8-2094b668ec05",
   "metadata": {},
   "outputs": [],
   "source": []
  }
 ],
 "metadata": {
  "kernelspec": {
   "display_name": "R",
   "language": "R",
   "name": "ir"
  },
  "language_info": {
   "codemirror_mode": "r",
   "file_extension": ".r",
   "mimetype": "text/x-r-source",
   "name": "R",
   "pygments_lexer": "r",
   "version": "4.1.3"
  }
 },
 "nbformat": 4,
 "nbformat_minor": 5
}
